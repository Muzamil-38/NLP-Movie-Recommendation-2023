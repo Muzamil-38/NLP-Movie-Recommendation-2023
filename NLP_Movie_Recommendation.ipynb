{
  "nbformat": 4,
  "nbformat_minor": 0,
  "metadata": {
    "colab": {
      "provenance": []
    },
    "kernelspec": {
      "name": "python3",
      "display_name": "Python 3"
    },
    "language_info": {
      "name": "python"
    },
    "accelerator": "GPU"
  },
  "cells": [
    {
      "cell_type": "code",
      "execution_count": null,
      "metadata": {
        "id": "YUGCspZrTOPr",
        "colab": {
          "base_uri": "https://localhost:8080/"
        },
        "outputId": "a5bbe40f-30b9-4b31-dcd3-14c291193d68"
      },
      "outputs": [
        {
          "output_type": "stream",
          "name": "stdout",
          "text": [
            "Drive already mounted at /content/drive; to attempt to forcibly remount, call drive.mount(\"/content/drive\", force_remount=True).\n"
          ]
        }
      ],
      "source": [
        "from google.colab import drive\n",
        "drive.mount(\"/content/drive\")"
      ]
    },
    {
      "cell_type": "code",
      "source": [
        "cd 'drive/My Drive'"
      ],
      "metadata": {
        "colab": {
          "base_uri": "https://localhost:8080/"
        },
        "id": "DDdY4PDJuR5b",
        "outputId": "9470db83-64d9-462c-85d3-aed65012f804"
      },
      "execution_count": null,
      "outputs": [
        {
          "output_type": "stream",
          "name": "stdout",
          "text": [
            "/content/drive/My Drive\n"
          ]
        }
      ]
    },
    {
      "cell_type": "code",
      "source": [
        "import pandas as pd\n",
        "df = pd.read_csv(\"wiki_movie_plots_deduped.csv\")\n",
        "df.head(3)"
      ],
      "metadata": {
        "colab": {
          "base_uri": "https://localhost:8080/",
          "height": 416
        },
        "id": "f04QndFGujpd",
        "outputId": "ebd0c046-81d1-499b-b9c5-a1929397d20b"
      },
      "execution_count": null,
      "outputs": [
        {
          "output_type": "execute_result",
          "data": {
            "text/plain": [
              "   Release Year                          Title Origin/Ethnicity Director Cast  \\\n",
              "0          1901         Kansas Saloon Smashers         American  Unknown  NaN   \n",
              "1          1901  Love by the Light of the Moon         American  Unknown  NaN   \n",
              "2          1901        The Martyred Presidents         American  Unknown  NaN   \n",
              "\n",
              "     Genre                                          Wiki Page  \\\n",
              "0  unknown  https://en.wikipedia.org/wiki/Kansas_Saloon_Sm...   \n",
              "1  unknown  https://en.wikipedia.org/wiki/Love_by_the_Ligh...   \n",
              "2  unknown  https://en.wikipedia.org/wiki/The_Martyred_Pre...   \n",
              "\n",
              "                                                Plot  \n",
              "0  A bartender is working at a saloon, serving dr...  \n",
              "1  The moon, painted with a smiling face hangs ov...  \n",
              "2  The film, just over a minute long, is composed...  "
            ],
            "text/html": [
              "\n",
              "  <div id=\"df-dec3f2a4-e679-40cd-b027-31713ef39564\">\n",
              "    <div class=\"colab-df-container\">\n",
              "      <div>\n",
              "<style scoped>\n",
              "    .dataframe tbody tr th:only-of-type {\n",
              "        vertical-align: middle;\n",
              "    }\n",
              "\n",
              "    .dataframe tbody tr th {\n",
              "        vertical-align: top;\n",
              "    }\n",
              "\n",
              "    .dataframe thead th {\n",
              "        text-align: right;\n",
              "    }\n",
              "</style>\n",
              "<table border=\"1\" class=\"dataframe\">\n",
              "  <thead>\n",
              "    <tr style=\"text-align: right;\">\n",
              "      <th></th>\n",
              "      <th>Release Year</th>\n",
              "      <th>Title</th>\n",
              "      <th>Origin/Ethnicity</th>\n",
              "      <th>Director</th>\n",
              "      <th>Cast</th>\n",
              "      <th>Genre</th>\n",
              "      <th>Wiki Page</th>\n",
              "      <th>Plot</th>\n",
              "    </tr>\n",
              "  </thead>\n",
              "  <tbody>\n",
              "    <tr>\n",
              "      <th>0</th>\n",
              "      <td>1901</td>\n",
              "      <td>Kansas Saloon Smashers</td>\n",
              "      <td>American</td>\n",
              "      <td>Unknown</td>\n",
              "      <td>NaN</td>\n",
              "      <td>unknown</td>\n",
              "      <td>https://en.wikipedia.org/wiki/Kansas_Saloon_Sm...</td>\n",
              "      <td>A bartender is working at a saloon, serving dr...</td>\n",
              "    </tr>\n",
              "    <tr>\n",
              "      <th>1</th>\n",
              "      <td>1901</td>\n",
              "      <td>Love by the Light of the Moon</td>\n",
              "      <td>American</td>\n",
              "      <td>Unknown</td>\n",
              "      <td>NaN</td>\n",
              "      <td>unknown</td>\n",
              "      <td>https://en.wikipedia.org/wiki/Love_by_the_Ligh...</td>\n",
              "      <td>The moon, painted with a smiling face hangs ov...</td>\n",
              "    </tr>\n",
              "    <tr>\n",
              "      <th>2</th>\n",
              "      <td>1901</td>\n",
              "      <td>The Martyred Presidents</td>\n",
              "      <td>American</td>\n",
              "      <td>Unknown</td>\n",
              "      <td>NaN</td>\n",
              "      <td>unknown</td>\n",
              "      <td>https://en.wikipedia.org/wiki/The_Martyred_Pre...</td>\n",
              "      <td>The film, just over a minute long, is composed...</td>\n",
              "    </tr>\n",
              "  </tbody>\n",
              "</table>\n",
              "</div>\n",
              "      <button class=\"colab-df-convert\" onclick=\"convertToInteractive('df-dec3f2a4-e679-40cd-b027-31713ef39564')\"\n",
              "              title=\"Convert this dataframe to an interactive table.\"\n",
              "              style=\"display:none;\">\n",
              "        \n",
              "  <svg xmlns=\"http://www.w3.org/2000/svg\" height=\"24px\"viewBox=\"0 0 24 24\"\n",
              "       width=\"24px\">\n",
              "    <path d=\"M0 0h24v24H0V0z\" fill=\"none\"/>\n",
              "    <path d=\"M18.56 5.44l.94 2.06.94-2.06 2.06-.94-2.06-.94-.94-2.06-.94 2.06-2.06.94zm-11 1L8.5 8.5l.94-2.06 2.06-.94-2.06-.94L8.5 2.5l-.94 2.06-2.06.94zm10 10l.94 2.06.94-2.06 2.06-.94-2.06-.94-.94-2.06-.94 2.06-2.06.94z\"/><path d=\"M17.41 7.96l-1.37-1.37c-.4-.4-.92-.59-1.43-.59-.52 0-1.04.2-1.43.59L10.3 9.45l-7.72 7.72c-.78.78-.78 2.05 0 2.83L4 21.41c.39.39.9.59 1.41.59.51 0 1.02-.2 1.41-.59l7.78-7.78 2.81-2.81c.8-.78.8-2.07 0-2.86zM5.41 20L4 18.59l7.72-7.72 1.47 1.35L5.41 20z\"/>\n",
              "  </svg>\n",
              "      </button>\n",
              "      \n",
              "  <style>\n",
              "    .colab-df-container {\n",
              "      display:flex;\n",
              "      flex-wrap:wrap;\n",
              "      gap: 12px;\n",
              "    }\n",
              "\n",
              "    .colab-df-convert {\n",
              "      background-color: #E8F0FE;\n",
              "      border: none;\n",
              "      border-radius: 50%;\n",
              "      cursor: pointer;\n",
              "      display: none;\n",
              "      fill: #1967D2;\n",
              "      height: 32px;\n",
              "      padding: 0 0 0 0;\n",
              "      width: 32px;\n",
              "    }\n",
              "\n",
              "    .colab-df-convert:hover {\n",
              "      background-color: #E2EBFA;\n",
              "      box-shadow: 0px 1px 2px rgba(60, 64, 67, 0.3), 0px 1px 3px 1px rgba(60, 64, 67, 0.15);\n",
              "      fill: #174EA6;\n",
              "    }\n",
              "\n",
              "    [theme=dark] .colab-df-convert {\n",
              "      background-color: #3B4455;\n",
              "      fill: #D2E3FC;\n",
              "    }\n",
              "\n",
              "    [theme=dark] .colab-df-convert:hover {\n",
              "      background-color: #434B5C;\n",
              "      box-shadow: 0px 1px 3px 1px rgba(0, 0, 0, 0.15);\n",
              "      filter: drop-shadow(0px 1px 2px rgba(0, 0, 0, 0.3));\n",
              "      fill: #FFFFFF;\n",
              "    }\n",
              "  </style>\n",
              "\n",
              "      <script>\n",
              "        const buttonEl =\n",
              "          document.querySelector('#df-dec3f2a4-e679-40cd-b027-31713ef39564 button.colab-df-convert');\n",
              "        buttonEl.style.display =\n",
              "          google.colab.kernel.accessAllowed ? 'block' : 'none';\n",
              "\n",
              "        async function convertToInteractive(key) {\n",
              "          const element = document.querySelector('#df-dec3f2a4-e679-40cd-b027-31713ef39564');\n",
              "          const dataTable =\n",
              "            await google.colab.kernel.invokeFunction('convertToInteractive',\n",
              "                                                     [key], {});\n",
              "          if (!dataTable) return;\n",
              "\n",
              "          const docLinkHtml = 'Like what you see? Visit the ' +\n",
              "            '<a target=\"_blank\" href=https://colab.research.google.com/notebooks/data_table.ipynb>data table notebook</a>'\n",
              "            + ' to learn more about interactive tables.';\n",
              "          element.innerHTML = '';\n",
              "          dataTable['output_type'] = 'display_data';\n",
              "          await google.colab.output.renderOutput(dataTable, element);\n",
              "          const docLink = document.createElement('div');\n",
              "          docLink.innerHTML = docLinkHtml;\n",
              "          element.appendChild(docLink);\n",
              "        }\n",
              "      </script>\n",
              "    </div>\n",
              "  </div>\n",
              "  "
            ]
          },
          "metadata": {},
          "execution_count": 4
        }
      ]
    },
    {
      "cell_type": "code",
      "source": [
        "df.shape"
      ],
      "metadata": {
        "colab": {
          "base_uri": "https://localhost:8080/"
        },
        "id": "47aQfJqKu7Wh",
        "outputId": "53d71448-40c1-4e38-8a9f-7c9ccc738f58"
      },
      "execution_count": null,
      "outputs": [
        {
          "output_type": "execute_result",
          "data": {
            "text/plain": [
              "(34886, 8)"
            ]
          },
          "metadata": {},
          "execution_count": 5
        }
      ]
    },
    {
      "cell_type": "code",
      "source": [
        "import numpy as np\n",
        "np.unique(df['Origin/Ethnicity'])"
      ],
      "metadata": {
        "colab": {
          "base_uri": "https://localhost:8080/"
        },
        "id": "i5lY0XvVvDMO",
        "outputId": "9f352b18-a31e-4a4e-868a-578c95691d00"
      },
      "execution_count": null,
      "outputs": [
        {
          "output_type": "execute_result",
          "data": {
            "text/plain": [
              "array(['American', 'Assamese', 'Australian', 'Bangladeshi', 'Bengali',\n",
              "       'Bollywood', 'British', 'Canadian', 'Chinese', 'Egyptian',\n",
              "       'Filipino', 'Hong Kong', 'Japanese', 'Kannada', 'Malayalam',\n",
              "       'Malaysian', 'Maldivian', 'Marathi', 'Punjabi', 'Russian',\n",
              "       'South_Korean', 'Tamil', 'Telugu', 'Turkish'], dtype=object)"
            ]
          },
          "metadata": {},
          "execution_count": 6
        }
      ]
    },
    {
      "cell_type": "code",
      "source": [
        "df2 = df.loc[(df['Origin/Ethnicity']=='American') & (df['Release Year']>2000)]\n",
        "len(df2)"
      ],
      "metadata": {
        "colab": {
          "base_uri": "https://localhost:8080/"
        },
        "id": "qZ3Y5e7CvWHN",
        "outputId": "08295265-0ace-41f1-9fc2-dcfb9dc27870"
      },
      "execution_count": null,
      "outputs": [
        {
          "output_type": "execute_result",
          "data": {
            "text/plain": [
              "3595"
            ]
          },
          "metadata": {},
          "execution_count": 8
        }
      ]
    },
    {
      "cell_type": "code",
      "source": [
        "my_df = pd.DataFrame(df2)"
      ],
      "metadata": {
        "id": "4rUqxsYIvxfQ"
      },
      "execution_count": null,
      "outputs": []
    },
    {
      "cell_type": "code",
      "source": [
        "my_df.tail(3)"
      ],
      "metadata": {
        "colab": {
          "base_uri": "https://localhost:8080/",
          "height": 503
        },
        "id": "ORv5kHClv-o_",
        "outputId": "b94245b5-72e8-48d9-ea1f-7472aa23297d"
      },
      "execution_count": null,
      "outputs": [
        {
          "output_type": "execute_result",
          "data": {
            "text/plain": [
              "       Release Year                       Title Origin/Ethnicity  \\\n",
              "17374          2017  All the Money in the World         American   \n",
              "17375          2017                Molly's Game         American   \n",
              "17376          2017              Phantom Thread         American   \n",
              "\n",
              "                   Director  \\\n",
              "17374          Ridley Scott   \n",
              "17375          Aaron Sorkin   \n",
              "17376  Paul Thomas Anderson   \n",
              "\n",
              "                                                    Cast  \\\n",
              "17374  Ridley Scott (director); David Scarpa (screenp...   \n",
              "17375  Aaron Sorkin (director/screenplay); Jessica Ch...   \n",
              "17376  Paul Thomas Anderson (director/screenplay); Da...   \n",
              "\n",
              "                         Genre  \\\n",
              "17374  biography, crime, drama   \n",
              "17375  biography, crime, drama   \n",
              "17376                    drama   \n",
              "\n",
              "                                               Wiki Page  \\\n",
              "17374  https://en.wikipedia.org/wiki/All_the_Money_in...   \n",
              "17375       https://en.wikipedia.org/wiki/Molly%27s_Game   \n",
              "17376       https://en.wikipedia.org/wiki/Phantom_Thread   \n",
              "\n",
              "                                                    Plot  \n",
              "17374  In 1973, 16-year-old John Paul Getty III (Paul...  \n",
              "17375  Molly Bloom is world-class mogul skier with Ol...  \n",
              "17376  In 1954 London, renowned fashion designer Reyn...  "
            ],
            "text/html": [
              "\n",
              "  <div id=\"df-66f96e53-aed2-4de4-9085-5555762112f1\">\n",
              "    <div class=\"colab-df-container\">\n",
              "      <div>\n",
              "<style scoped>\n",
              "    .dataframe tbody tr th:only-of-type {\n",
              "        vertical-align: middle;\n",
              "    }\n",
              "\n",
              "    .dataframe tbody tr th {\n",
              "        vertical-align: top;\n",
              "    }\n",
              "\n",
              "    .dataframe thead th {\n",
              "        text-align: right;\n",
              "    }\n",
              "</style>\n",
              "<table border=\"1\" class=\"dataframe\">\n",
              "  <thead>\n",
              "    <tr style=\"text-align: right;\">\n",
              "      <th></th>\n",
              "      <th>Release Year</th>\n",
              "      <th>Title</th>\n",
              "      <th>Origin/Ethnicity</th>\n",
              "      <th>Director</th>\n",
              "      <th>Cast</th>\n",
              "      <th>Genre</th>\n",
              "      <th>Wiki Page</th>\n",
              "      <th>Plot</th>\n",
              "    </tr>\n",
              "  </thead>\n",
              "  <tbody>\n",
              "    <tr>\n",
              "      <th>17374</th>\n",
              "      <td>2017</td>\n",
              "      <td>All the Money in the World</td>\n",
              "      <td>American</td>\n",
              "      <td>Ridley Scott</td>\n",
              "      <td>Ridley Scott (director); David Scarpa (screenp...</td>\n",
              "      <td>biography, crime, drama</td>\n",
              "      <td>https://en.wikipedia.org/wiki/All_the_Money_in...</td>\n",
              "      <td>In 1973, 16-year-old John Paul Getty III (Paul...</td>\n",
              "    </tr>\n",
              "    <tr>\n",
              "      <th>17375</th>\n",
              "      <td>2017</td>\n",
              "      <td>Molly's Game</td>\n",
              "      <td>American</td>\n",
              "      <td>Aaron Sorkin</td>\n",
              "      <td>Aaron Sorkin (director/screenplay); Jessica Ch...</td>\n",
              "      <td>biography, crime, drama</td>\n",
              "      <td>https://en.wikipedia.org/wiki/Molly%27s_Game</td>\n",
              "      <td>Molly Bloom is world-class mogul skier with Ol...</td>\n",
              "    </tr>\n",
              "    <tr>\n",
              "      <th>17376</th>\n",
              "      <td>2017</td>\n",
              "      <td>Phantom Thread</td>\n",
              "      <td>American</td>\n",
              "      <td>Paul Thomas Anderson</td>\n",
              "      <td>Paul Thomas Anderson (director/screenplay); Da...</td>\n",
              "      <td>drama</td>\n",
              "      <td>https://en.wikipedia.org/wiki/Phantom_Thread</td>\n",
              "      <td>In 1954 London, renowned fashion designer Reyn...</td>\n",
              "    </tr>\n",
              "  </tbody>\n",
              "</table>\n",
              "</div>\n",
              "      <button class=\"colab-df-convert\" onclick=\"convertToInteractive('df-66f96e53-aed2-4de4-9085-5555762112f1')\"\n",
              "              title=\"Convert this dataframe to an interactive table.\"\n",
              "              style=\"display:none;\">\n",
              "        \n",
              "  <svg xmlns=\"http://www.w3.org/2000/svg\" height=\"24px\"viewBox=\"0 0 24 24\"\n",
              "       width=\"24px\">\n",
              "    <path d=\"M0 0h24v24H0V0z\" fill=\"none\"/>\n",
              "    <path d=\"M18.56 5.44l.94 2.06.94-2.06 2.06-.94-2.06-.94-.94-2.06-.94 2.06-2.06.94zm-11 1L8.5 8.5l.94-2.06 2.06-.94-2.06-.94L8.5 2.5l-.94 2.06-2.06.94zm10 10l.94 2.06.94-2.06 2.06-.94-2.06-.94-.94-2.06-.94 2.06-2.06.94z\"/><path d=\"M17.41 7.96l-1.37-1.37c-.4-.4-.92-.59-1.43-.59-.52 0-1.04.2-1.43.59L10.3 9.45l-7.72 7.72c-.78.78-.78 2.05 0 2.83L4 21.41c.39.39.9.59 1.41.59.51 0 1.02-.2 1.41-.59l7.78-7.78 2.81-2.81c.8-.78.8-2.07 0-2.86zM5.41 20L4 18.59l7.72-7.72 1.47 1.35L5.41 20z\"/>\n",
              "  </svg>\n",
              "      </button>\n",
              "      \n",
              "  <style>\n",
              "    .colab-df-container {\n",
              "      display:flex;\n",
              "      flex-wrap:wrap;\n",
              "      gap: 12px;\n",
              "    }\n",
              "\n",
              "    .colab-df-convert {\n",
              "      background-color: #E8F0FE;\n",
              "      border: none;\n",
              "      border-radius: 50%;\n",
              "      cursor: pointer;\n",
              "      display: none;\n",
              "      fill: #1967D2;\n",
              "      height: 32px;\n",
              "      padding: 0 0 0 0;\n",
              "      width: 32px;\n",
              "    }\n",
              "\n",
              "    .colab-df-convert:hover {\n",
              "      background-color: #E2EBFA;\n",
              "      box-shadow: 0px 1px 2px rgba(60, 64, 67, 0.3), 0px 1px 3px 1px rgba(60, 64, 67, 0.15);\n",
              "      fill: #174EA6;\n",
              "    }\n",
              "\n",
              "    [theme=dark] .colab-df-convert {\n",
              "      background-color: #3B4455;\n",
              "      fill: #D2E3FC;\n",
              "    }\n",
              "\n",
              "    [theme=dark] .colab-df-convert:hover {\n",
              "      background-color: #434B5C;\n",
              "      box-shadow: 0px 1px 3px 1px rgba(0, 0, 0, 0.15);\n",
              "      filter: drop-shadow(0px 1px 2px rgba(0, 0, 0, 0.3));\n",
              "      fill: #FFFFFF;\n",
              "    }\n",
              "  </style>\n",
              "\n",
              "      <script>\n",
              "        const buttonEl =\n",
              "          document.querySelector('#df-66f96e53-aed2-4de4-9085-5555762112f1 button.colab-df-convert');\n",
              "        buttonEl.style.display =\n",
              "          google.colab.kernel.accessAllowed ? 'block' : 'none';\n",
              "\n",
              "        async function convertToInteractive(key) {\n",
              "          const element = document.querySelector('#df-66f96e53-aed2-4de4-9085-5555762112f1');\n",
              "          const dataTable =\n",
              "            await google.colab.kernel.invokeFunction('convertToInteractive',\n",
              "                                                     [key], {});\n",
              "          if (!dataTable) return;\n",
              "\n",
              "          const docLinkHtml = 'Like what you see? Visit the ' +\n",
              "            '<a target=\"_blank\" href=https://colab.research.google.com/notebooks/data_table.ipynb>data table notebook</a>'\n",
              "            + ' to learn more about interactive tables.';\n",
              "          element.innerHTML = '';\n",
              "          dataTable['output_type'] = 'display_data';\n",
              "          await google.colab.output.renderOutput(dataTable, element);\n",
              "          const docLink = document.createElement('div');\n",
              "          docLink.innerHTML = docLinkHtml;\n",
              "          element.appendChild(docLink);\n",
              "        }\n",
              "      </script>\n",
              "    </div>\n",
              "  </div>\n",
              "  "
            ]
          },
          "metadata": {},
          "execution_count": 11
        }
      ]
    },
    {
      "cell_type": "code",
      "source": [
        " final_df = my_df[[\"Title\",\"Plot\"]]\n",
        " final_df = final_df.set_index('Title')\n",
        " final_df.head(3)"
      ],
      "metadata": {
        "colab": {
          "base_uri": "https://localhost:8080/",
          "height": 175
        },
        "id": "J8WXHmvZwCl3",
        "outputId": "366ff6b8-0aa7-4b3b-8fdc-c881874279e6"
      },
      "execution_count": null,
      "outputs": [
        {
          "output_type": "execute_result",
          "data": {
            "text/plain": [
              "                                                                            Plot\n",
              "Title                                                                           \n",
              " 15 Minutes                    Ex-convicts Emil Slovak (Karel Roden) and Oleg...\n",
              "3000 Miles to Graceland        Outside of Las Vegas, Michael Zane, a recent p...\n",
              " A.I. Artificial Intelligence  In the late 22nd century, rising sea levels fr..."
            ],
            "text/html": [
              "\n",
              "  <div id=\"df-32fe8ed2-de15-4703-9287-498f38869f54\">\n",
              "    <div class=\"colab-df-container\">\n",
              "      <div>\n",
              "<style scoped>\n",
              "    .dataframe tbody tr th:only-of-type {\n",
              "        vertical-align: middle;\n",
              "    }\n",
              "\n",
              "    .dataframe tbody tr th {\n",
              "        vertical-align: top;\n",
              "    }\n",
              "\n",
              "    .dataframe thead th {\n",
              "        text-align: right;\n",
              "    }\n",
              "</style>\n",
              "<table border=\"1\" class=\"dataframe\">\n",
              "  <thead>\n",
              "    <tr style=\"text-align: right;\">\n",
              "      <th></th>\n",
              "      <th>Plot</th>\n",
              "    </tr>\n",
              "    <tr>\n",
              "      <th>Title</th>\n",
              "      <th></th>\n",
              "    </tr>\n",
              "  </thead>\n",
              "  <tbody>\n",
              "    <tr>\n",
              "      <th>15 Minutes</th>\n",
              "      <td>Ex-convicts Emil Slovak (Karel Roden) and Oleg...</td>\n",
              "    </tr>\n",
              "    <tr>\n",
              "      <th>3000 Miles to Graceland</th>\n",
              "      <td>Outside of Las Vegas, Michael Zane, a recent p...</td>\n",
              "    </tr>\n",
              "    <tr>\n",
              "      <th>A.I. Artificial Intelligence</th>\n",
              "      <td>In the late 22nd century, rising sea levels fr...</td>\n",
              "    </tr>\n",
              "  </tbody>\n",
              "</table>\n",
              "</div>\n",
              "      <button class=\"colab-df-convert\" onclick=\"convertToInteractive('df-32fe8ed2-de15-4703-9287-498f38869f54')\"\n",
              "              title=\"Convert this dataframe to an interactive table.\"\n",
              "              style=\"display:none;\">\n",
              "        \n",
              "  <svg xmlns=\"http://www.w3.org/2000/svg\" height=\"24px\"viewBox=\"0 0 24 24\"\n",
              "       width=\"24px\">\n",
              "    <path d=\"M0 0h24v24H0V0z\" fill=\"none\"/>\n",
              "    <path d=\"M18.56 5.44l.94 2.06.94-2.06 2.06-.94-2.06-.94-.94-2.06-.94 2.06-2.06.94zm-11 1L8.5 8.5l.94-2.06 2.06-.94-2.06-.94L8.5 2.5l-.94 2.06-2.06.94zm10 10l.94 2.06.94-2.06 2.06-.94-2.06-.94-.94-2.06-.94 2.06-2.06.94z\"/><path d=\"M17.41 7.96l-1.37-1.37c-.4-.4-.92-.59-1.43-.59-.52 0-1.04.2-1.43.59L10.3 9.45l-7.72 7.72c-.78.78-.78 2.05 0 2.83L4 21.41c.39.39.9.59 1.41.59.51 0 1.02-.2 1.41-.59l7.78-7.78 2.81-2.81c.8-.78.8-2.07 0-2.86zM5.41 20L4 18.59l7.72-7.72 1.47 1.35L5.41 20z\"/>\n",
              "  </svg>\n",
              "      </button>\n",
              "      \n",
              "  <style>\n",
              "    .colab-df-container {\n",
              "      display:flex;\n",
              "      flex-wrap:wrap;\n",
              "      gap: 12px;\n",
              "    }\n",
              "\n",
              "    .colab-df-convert {\n",
              "      background-color: #E8F0FE;\n",
              "      border: none;\n",
              "      border-radius: 50%;\n",
              "      cursor: pointer;\n",
              "      display: none;\n",
              "      fill: #1967D2;\n",
              "      height: 32px;\n",
              "      padding: 0 0 0 0;\n",
              "      width: 32px;\n",
              "    }\n",
              "\n",
              "    .colab-df-convert:hover {\n",
              "      background-color: #E2EBFA;\n",
              "      box-shadow: 0px 1px 2px rgba(60, 64, 67, 0.3), 0px 1px 3px 1px rgba(60, 64, 67, 0.15);\n",
              "      fill: #174EA6;\n",
              "    }\n",
              "\n",
              "    [theme=dark] .colab-df-convert {\n",
              "      background-color: #3B4455;\n",
              "      fill: #D2E3FC;\n",
              "    }\n",
              "\n",
              "    [theme=dark] .colab-df-convert:hover {\n",
              "      background-color: #434B5C;\n",
              "      box-shadow: 0px 1px 3px 1px rgba(0, 0, 0, 0.15);\n",
              "      filter: drop-shadow(0px 1px 2px rgba(0, 0, 0, 0.3));\n",
              "      fill: #FFFFFF;\n",
              "    }\n",
              "  </style>\n",
              "\n",
              "      <script>\n",
              "        const buttonEl =\n",
              "          document.querySelector('#df-32fe8ed2-de15-4703-9287-498f38869f54 button.colab-df-convert');\n",
              "        buttonEl.style.display =\n",
              "          google.colab.kernel.accessAllowed ? 'block' : 'none';\n",
              "\n",
              "        async function convertToInteractive(key) {\n",
              "          const element = document.querySelector('#df-32fe8ed2-de15-4703-9287-498f38869f54');\n",
              "          const dataTable =\n",
              "            await google.colab.kernel.invokeFunction('convertToInteractive',\n",
              "                                                     [key], {});\n",
              "          if (!dataTable) return;\n",
              "\n",
              "          const docLinkHtml = 'Like what you see? Visit the ' +\n",
              "            '<a target=\"_blank\" href=https://colab.research.google.com/notebooks/data_table.ipynb>data table notebook</a>'\n",
              "            + ' to learn more about interactive tables.';\n",
              "          element.innerHTML = '';\n",
              "          dataTable['output_type'] = 'display_data';\n",
              "          await google.colab.output.renderOutput(dataTable, element);\n",
              "          const docLink = document.createElement('div');\n",
              "          docLink.innerHTML = docLinkHtml;\n",
              "          element.appendChild(docLink);\n",
              "        }\n",
              "      </script>\n",
              "    </div>\n",
              "  </div>\n",
              "  "
            ]
          },
          "metadata": {},
          "execution_count": 12
        }
      ]
    },
    {
      "cell_type": "code",
      "source": [
        "import nltk\n",
        "nltk.download('punkt')\n",
        "nltk.download('average_perceptron_tagger')\n",
        "nltk.download('wordnet')\n",
        "nltk.download('stopwords')\n",
        "nltk.download('omw-1.4')\n",
        "\n",
        "from nltk.stem import WordNetLemmatizer\n",
        "from nltk.corpus import stopwords\n",
        "lemmatizer = WordNetLemmatizer()\n"
      ],
      "metadata": {
        "colab": {
          "base_uri": "https://localhost:8080/"
        },
        "id": "NgmN4TKAxLMH",
        "outputId": "145daa4f-3d9c-4a36-9026-30ca462cbb95"
      },
      "execution_count": null,
      "outputs": [
        {
          "output_type": "stream",
          "name": "stderr",
          "text": [
            "[nltk_data] Downloading package punkt to /root/nltk_data...\n",
            "[nltk_data]   Package punkt is already up-to-date!\n",
            "[nltk_data] Error loading average_perceptron_tagger: Package\n",
            "[nltk_data]     'average_perceptron_tagger' not found in index\n",
            "[nltk_data] Downloading package wordnet to /root/nltk_data...\n",
            "[nltk_data]   Package wordnet is already up-to-date!\n",
            "[nltk_data] Downloading package stopwords to /root/nltk_data...\n",
            "[nltk_data]   Package stopwords is already up-to-date!\n",
            "[nltk_data] Downloading package omw-1.4 to /root/nltk_data...\n"
          ]
        }
      ]
    },
    {
      "cell_type": "code",
      "source": [
        "def preprocess_sentences(text):\n",
        "  text = text.lower()\n",
        "  words = nltk.word_tokenize(text)\n",
        "  my_sent=[lemmatizer.lemmatize(word) for word in words if word not in stopwords.words('english')]\n",
        "  finalSent = ''.join(my_sent)\n",
        "\n",
        "  finalSent = finalSent.replace(\"n't\",\" not\")\n",
        "  finalSent = finalSent.replace(\"'m\",\" am\")\n",
        "  finalSent = finalSent.replace(\"'s\",\" is\")\n",
        "  finalSent = finalSent.replace(\"'re\",\" are\")\n",
        "  finalSent = finalSent.replace(\"'ll\",\" will\")\n",
        "  finalSent = finalSent.replace(\"'ve\",\" have\")\n",
        "  finalSent = finalSent.replace(\"'d\",\" would\")\n",
        "  return finalSent\n",
        "\n",
        "final_df[\"new_plot\"] = final_df[\"Plot\"].apply(preprocess_sentences)\n",
        "final_df.head()"
      ],
      "metadata": {
        "colab": {
          "base_uri": "https://localhost:8080/",
          "height": 438
        },
        "id": "FWErOmV0x4sT",
        "outputId": "7296b867-1f32-42d8-83eb-b72590b2fbe4"
      },
      "execution_count": null,
      "outputs": [
        {
          "output_type": "execute_result",
          "data": {
            "text/plain": [
              "                                                                            Plot  \\\n",
              "Title                                                                              \n",
              " 15 Minutes                    Ex-convicts Emil Slovak (Karel Roden) and Oleg...   \n",
              "3000 Miles to Graceland        Outside of Las Vegas, Michael Zane, a recent p...   \n",
              " A.I. Artificial Intelligence  In the late 22nd century, rising sea levels fr...   \n",
              "The Affair of the Necklace     Jeanne de Saint-Rémy de Valois, orphaned at an...   \n",
              "Ali                            The film begins with Cassius Clay, Jr. before ...   \n",
              "\n",
              "                                                                        new_plot  \n",
              "Title                                                                             \n",
              " 15 Minutes                    ex-convictsemilslovak(karelroden)olegrazgul(ol...  \n",
              "3000 Miles to Graceland        outsidelavega,michaelzane,recentparolee,stopru...  \n",
              " A.I. Artificial Intelligence  late22ndcentury,risingsealevelglobalwarmingwip...  \n",
              "The Affair of the Necklace     jeannedesaint-rémydevalois,orphanedearlyage,de...  \n",
              "Ali                            filmbegincassiusclay,jr.championshipdebutheavy...  "
            ],
            "text/html": [
              "\n",
              "  <div id=\"df-f1b70089-a8ac-4884-bc9d-90eb0144ee7e\">\n",
              "    <div class=\"colab-df-container\">\n",
              "      <div>\n",
              "<style scoped>\n",
              "    .dataframe tbody tr th:only-of-type {\n",
              "        vertical-align: middle;\n",
              "    }\n",
              "\n",
              "    .dataframe tbody tr th {\n",
              "        vertical-align: top;\n",
              "    }\n",
              "\n",
              "    .dataframe thead th {\n",
              "        text-align: right;\n",
              "    }\n",
              "</style>\n",
              "<table border=\"1\" class=\"dataframe\">\n",
              "  <thead>\n",
              "    <tr style=\"text-align: right;\">\n",
              "      <th></th>\n",
              "      <th>Plot</th>\n",
              "      <th>new_plot</th>\n",
              "    </tr>\n",
              "    <tr>\n",
              "      <th>Title</th>\n",
              "      <th></th>\n",
              "      <th></th>\n",
              "    </tr>\n",
              "  </thead>\n",
              "  <tbody>\n",
              "    <tr>\n",
              "      <th>15 Minutes</th>\n",
              "      <td>Ex-convicts Emil Slovak (Karel Roden) and Oleg...</td>\n",
              "      <td>ex-convictsemilslovak(karelroden)olegrazgul(ol...</td>\n",
              "    </tr>\n",
              "    <tr>\n",
              "      <th>3000 Miles to Graceland</th>\n",
              "      <td>Outside of Las Vegas, Michael Zane, a recent p...</td>\n",
              "      <td>outsidelavega,michaelzane,recentparolee,stopru...</td>\n",
              "    </tr>\n",
              "    <tr>\n",
              "      <th>A.I. Artificial Intelligence</th>\n",
              "      <td>In the late 22nd century, rising sea levels fr...</td>\n",
              "      <td>late22ndcentury,risingsealevelglobalwarmingwip...</td>\n",
              "    </tr>\n",
              "    <tr>\n",
              "      <th>The Affair of the Necklace</th>\n",
              "      <td>Jeanne de Saint-Rémy de Valois, orphaned at an...</td>\n",
              "      <td>jeannedesaint-rémydevalois,orphanedearlyage,de...</td>\n",
              "    </tr>\n",
              "    <tr>\n",
              "      <th>Ali</th>\n",
              "      <td>The film begins with Cassius Clay, Jr. before ...</td>\n",
              "      <td>filmbegincassiusclay,jr.championshipdebutheavy...</td>\n",
              "    </tr>\n",
              "  </tbody>\n",
              "</table>\n",
              "</div>\n",
              "      <button class=\"colab-df-convert\" onclick=\"convertToInteractive('df-f1b70089-a8ac-4884-bc9d-90eb0144ee7e')\"\n",
              "              title=\"Convert this dataframe to an interactive table.\"\n",
              "              style=\"display:none;\">\n",
              "        \n",
              "  <svg xmlns=\"http://www.w3.org/2000/svg\" height=\"24px\"viewBox=\"0 0 24 24\"\n",
              "       width=\"24px\">\n",
              "    <path d=\"M0 0h24v24H0V0z\" fill=\"none\"/>\n",
              "    <path d=\"M18.56 5.44l.94 2.06.94-2.06 2.06-.94-2.06-.94-.94-2.06-.94 2.06-2.06.94zm-11 1L8.5 8.5l.94-2.06 2.06-.94-2.06-.94L8.5 2.5l-.94 2.06-2.06.94zm10 10l.94 2.06.94-2.06 2.06-.94-2.06-.94-.94-2.06-.94 2.06-2.06.94z\"/><path d=\"M17.41 7.96l-1.37-1.37c-.4-.4-.92-.59-1.43-.59-.52 0-1.04.2-1.43.59L10.3 9.45l-7.72 7.72c-.78.78-.78 2.05 0 2.83L4 21.41c.39.39.9.59 1.41.59.51 0 1.02-.2 1.41-.59l7.78-7.78 2.81-2.81c.8-.78.8-2.07 0-2.86zM5.41 20L4 18.59l7.72-7.72 1.47 1.35L5.41 20z\"/>\n",
              "  </svg>\n",
              "      </button>\n",
              "      \n",
              "  <style>\n",
              "    .colab-df-container {\n",
              "      display:flex;\n",
              "      flex-wrap:wrap;\n",
              "      gap: 12px;\n",
              "    }\n",
              "\n",
              "    .colab-df-convert {\n",
              "      background-color: #E8F0FE;\n",
              "      border: none;\n",
              "      border-radius: 50%;\n",
              "      cursor: pointer;\n",
              "      display: none;\n",
              "      fill: #1967D2;\n",
              "      height: 32px;\n",
              "      padding: 0 0 0 0;\n",
              "      width: 32px;\n",
              "    }\n",
              "\n",
              "    .colab-df-convert:hover {\n",
              "      background-color: #E2EBFA;\n",
              "      box-shadow: 0px 1px 2px rgba(60, 64, 67, 0.3), 0px 1px 3px 1px rgba(60, 64, 67, 0.15);\n",
              "      fill: #174EA6;\n",
              "    }\n",
              "\n",
              "    [theme=dark] .colab-df-convert {\n",
              "      background-color: #3B4455;\n",
              "      fill: #D2E3FC;\n",
              "    }\n",
              "\n",
              "    [theme=dark] .colab-df-convert:hover {\n",
              "      background-color: #434B5C;\n",
              "      box-shadow: 0px 1px 3px 1px rgba(0, 0, 0, 0.15);\n",
              "      filter: drop-shadow(0px 1px 2px rgba(0, 0, 0, 0.3));\n",
              "      fill: #FFFFFF;\n",
              "    }\n",
              "  </style>\n",
              "\n",
              "      <script>\n",
              "        const buttonEl =\n",
              "          document.querySelector('#df-f1b70089-a8ac-4884-bc9d-90eb0144ee7e button.colab-df-convert');\n",
              "        buttonEl.style.display =\n",
              "          google.colab.kernel.accessAllowed ? 'block' : 'none';\n",
              "\n",
              "        async function convertToInteractive(key) {\n",
              "          const element = document.querySelector('#df-f1b70089-a8ac-4884-bc9d-90eb0144ee7e');\n",
              "          const dataTable =\n",
              "            await google.colab.kernel.invokeFunction('convertToInteractive',\n",
              "                                                     [key], {});\n",
              "          if (!dataTable) return;\n",
              "\n",
              "          const docLinkHtml = 'Like what you see? Visit the ' +\n",
              "            '<a target=\"_blank\" href=https://colab.research.google.com/notebooks/data_table.ipynb>data table notebook</a>'\n",
              "            + ' to learn more about interactive tables.';\n",
              "          element.innerHTML = '';\n",
              "          dataTable['output_type'] = 'display_data';\n",
              "          await google.colab.output.renderOutput(dataTable, element);\n",
              "          const docLink = document.createElement('div');\n",
              "          docLink.innerHTML = docLinkHtml;\n",
              "          element.appendChild(docLink);\n",
              "        }\n",
              "      </script>\n",
              "    </div>\n",
              "  </div>\n",
              "  "
            ]
          },
          "metadata": {},
          "execution_count": 16
        }
      ]
    },
    {
      "cell_type": "code",
      "source": [
        "\n",
        "from sklearn.feature_extraction.text import TfidfVectorizer\n",
        "tfidf = TfidfVectorizer()\n",
        "tfidf_movieid = tfidf.fit_transform((final_df[\"new_plot\"]))\n",
        "\n",
        "#Find Cosine similarity\n",
        "from sklearn.metrics.pairwise import cosine_similarity\n",
        "similarity = cosine_similarity(tfidf_movieid,tfidf_movieid)\n"
      ],
      "metadata": {
        "id": "PxO1iSaDzeTh"
      },
      "execution_count": null,
      "outputs": []
    },
    {
      "cell_type": "code",
      "source": [
        "indices = pd.Series(final_df.index)\n",
        "\n",
        "def recommendation(title,cosine_sim = similarity):\n",
        "  try:\n",
        "    index = indices[indices == title].index[0]\n",
        "    similarity_scores = pd.Series(cosine_sim[index]).sort_values(ascending=False)\n",
        "    top_10_movies = list(similarity_scores.iloc[1:11].index)\n",
        "    recommended_movies = [list(final_df.index)[i] for i in top_10_movies]\n",
        "    return recommended_movies\n",
        "  except:\n",
        "    print(\"No Movie Name Found\")"
      ],
      "metadata": {
        "id": "TiCNU3By17LX"
      },
      "execution_count": null,
      "outputs": []
    },
    {
      "cell_type": "code",
      "source": [
        "recommendation(\"Fast & Furious Hello\")"
      ],
      "metadata": {
        "colab": {
          "base_uri": "https://localhost:8080/"
        },
        "id": "Bf0RhZYG4cfo",
        "outputId": "b6820c69-aced-4c61-bd21-b1bf90578d84"
      },
      "execution_count": null,
      "outputs": [
        {
          "output_type": "stream",
          "name": "stdout",
          "text": [
            "No Movie Name Found\n"
          ]
        }
      ]
    },
    {
      "cell_type": "code",
      "source": [
        "recommendation(\"Fast & Furious\")"
      ],
      "metadata": {
        "colab": {
          "base_uri": "https://localhost:8080/"
        },
        "id": "dDxIacSY4kWI",
        "outputId": "4a927d0b-95c2-4fdd-b4ac-aef39085b719"
      },
      "execution_count": null,
      "outputs": [
        {
          "output_type": "execute_result",
          "data": {
            "text/plain": [
              "['If I Stay',\n",
              " 'Fast Five',\n",
              " 'The Princess Diaries',\n",
              " 'The Princess Diaries 2: Royal Engagement',\n",
              " 'Texas Killing Fields',\n",
              " 'The Informant!',\n",
              " 'Thunderstruck',\n",
              " 'Getaway',\n",
              " ' The Fast and the Furious',\n",
              " 'Love & Mercy']"
            ]
          },
          "metadata": {},
          "execution_count": 25
        }
      ]
    },
    {
      "cell_type": "code",
      "source": [
        "recommendation(\"Harry Potter and the chamber of Secrets\")"
      ],
      "metadata": {
        "colab": {
          "base_uri": "https://localhost:8080/"
        },
        "id": "Ip6_jXxU4pPN",
        "outputId": "854158e4-badc-4c3b-a66c-d203a2d28352"
      },
      "execution_count": null,
      "outputs": [
        {
          "output_type": "stream",
          "name": "stdout",
          "text": [
            "No Movie Name Found\n"
          ]
        }
      ]
    },
    {
      "cell_type": "code",
      "source": [
        "recommendation(\"Spider-Man\")\n"
      ],
      "metadata": {
        "colab": {
          "base_uri": "https://localhost:8080/"
        },
        "id": "KNaIhIK54yJC",
        "outputId": "7d9a72ae-26d4-40e0-f590-29aa5747ae62"
      },
      "execution_count": null,
      "outputs": [
        {
          "output_type": "execute_result",
          "data": {
            "text/plain": [
              "['Spider-Man 2',\n",
              " 'The Amazing Spider-Man 2',\n",
              " 'Envy',\n",
              " 'Elf-Man',\n",
              " 'Spider-Man 3',\n",
              " ' The Tailor of Panama',\n",
              " 'The Road',\n",
              " 'Amazing Spider-Man, TheThe Amazing Spider-Man',\n",
              " 'The Alibi',\n",
              " \"Harry Potter and the Sorcerer's Stone\"]"
            ]
          },
          "metadata": {},
          "execution_count": 28
        }
      ]
    },
    {
      "cell_type": "code",
      "source": [
        "recommendation(\"Ice Age\")\n"
      ],
      "metadata": {
        "colab": {
          "base_uri": "https://localhost:8080/"
        },
        "id": "fWDvy9tL46Uo",
        "outputId": "88227f1e-34a3-400c-87e2-8c07dae029d4"
      },
      "execution_count": null,
      "outputs": [
        {
          "output_type": "execute_result",
          "data": {
            "text/plain": [
              "['Ice Age: Continental Drift',\n",
              " 'Ice Age: Dawn of the Dinosaurs',\n",
              " 'Lords of Dogtown',\n",
              " 'Ice Age: The Meltdown',\n",
              " 'Brown Sugar',\n",
              " 'Bella',\n",
              " 'Diary of a Wimpy Kid: The Long Haul',\n",
              " ' I Can Do Bad All By Myself',\n",
              " 'Shark Bait',\n",
              " 'Scoop']"
            ]
          },
          "metadata": {},
          "execution_count": 29
        }
      ]
    },
    {
      "cell_type": "code",
      "source": [],
      "metadata": {
        "id": "gvrhLD0J4-Ag"
      },
      "execution_count": null,
      "outputs": []
    }
  ]
}